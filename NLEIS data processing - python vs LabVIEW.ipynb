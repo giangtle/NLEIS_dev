{
 "cells": [
  {
   "cell_type": "code",
   "execution_count": 1,
   "id": "694936c4",
   "metadata": {},
   "outputs": [],
   "source": [
    "import numpy as np\n",
    "import pandas as pd\n",
    "%matplotlib inline\n",
    "import matplotlib.pyplot as plt\n",
    "\n",
    "from python import NLEIS"
   ]
  },
  {
   "cell_type": "markdown",
   "id": "c66a4f7c",
   "metadata": {},
   "source": [
    "Perform raw data processing with python code:"
   ]
  },
  {
   "cell_type": "code",
   "execution_count": null,
   "id": "f633107a",
   "metadata": {},
   "outputs": [],
   "source": [
    "save_name = \"./example/NLEIS_python.txt\"\n",
    "file_loc =\"./example/-NLEISdata/r\"\n",
    "amp_no = 20\n",
    "freq_no = 41\n",
    "\n",
    "NLEIS(save_name, file_loc, freq_no, amp_no, galvano=True, IR=100, current_amplification=1, voltage_amplification=1)"
   ]
  },
  {
   "cell_type": "markdown",
   "id": "e37af5de",
   "metadata": {},
   "source": [
    "Compare the python NLEIS results with the LabVIEW results from running *NLEISView_v15.vi*"
   ]
  },
  {
   "cell_type": "code",
   "execution_count": null,
   "id": "15eb9f6d",
   "metadata": {},
   "outputs": [],
   "source": [
    "df = pd.read_csv(save_name, delimiter=\"\\t\")\n",
    "df2 = pd.read_csv(\"./example/NLEIS_LabVIEW.txt\", skiprows=1, sep='\\t')"
   ]
  },
  {
   "cell_type": "markdown",
   "id": "469f3593",
   "metadata": {},
   "source": [
    "## First harmonic response (EIS response)"
   ]
  },
  {
   "cell_type": "code",
   "execution_count": null,
   "id": "ce803d13",
   "metadata": {
    "scrolled": true
   },
   "outputs": [],
   "source": [
    "fig, ax = plt.subplots(figsize=(7,4))\n",
    "ax.plot(df[\"V11 Re\"], -df[\"V11 Im\"], label=\"python\")\n",
    "ax.scatter(df[\"V11 Re\"][::10], -df2[\"V11 Im\"][::10], marker=\"s\", label='_nolegend_')\n",
    "ax.plot(df2[\"V11 Re\"], -df2[\"V11 Im\"], label=\"LabVIEW\")\n",
    "ax.scatter(df2[\"V11 Re\"][::10], -df2[\"V11 Im\"][::10], marker=\"s\", label='_nolegend_')\n",
    "ax.scatter(0, 0, c=\"r\", marker=\"o\", label='_nolegend_')\n",
    "ax.axis('equal')\n",
    "ax.set_xlabel(r\"$Z_{11}' [\\Omega]$\", fontsize=12)\n",
    "ax.set_ylabel(r\"$-Z_{11}'' [\\Omega]$\", fontsize=12)\n",
    "plt.legend()\n",
    "plt.grid()\n",
    "plt.show()"
   ]
  },
  {
   "cell_type": "markdown",
   "id": "610c34ca",
   "metadata": {},
   "source": [
    "## Second harmonics:"
   ]
  },
  {
   "cell_type": "code",
   "execution_count": null,
   "id": "8b61145e",
   "metadata": {},
   "outputs": [],
   "source": [
    "fig, ax = plt.subplots(figsize=(7,4))\n",
    "ax.plot(df[\"V22 Re\"], df[\"V22 Im\"], label=\"python\")\n",
    "ax.scatter(df[\"V22 Re\"][::10], df[\"V22 Im\"][::10], marker=\"s\", label='_nolegend_')\n",
    "ax.plot(df2[\"V22 Re\"], df2[\"V22 Im\"], label=\"LabVIEW\")\n",
    "ax.scatter(df2[\"V22 Re\"][::10], df2[\"V22 Im\"][::10], marker=\"s\", label='_nolegend_')\n",
    "ax.scatter(0, 0, c=\"r\", marker=\"o\", label='_nolegend_')\n",
    "ax.axis('equal')\n",
    "ax.set_xlabel(r\"$Z_{22}' [\\Omega/A]$\", fontsize=12)\n",
    "ax.set_ylabel(r\"$Z_{22}'' [\\Omega/A]$\", fontsize=12)\n",
    "plt.grid()\n",
    "plt.show()"
   ]
  },
  {
   "cell_type": "markdown",
   "id": "2bbe385d",
   "metadata": {},
   "source": [
    "## Third harmonics:"
   ]
  },
  {
   "cell_type": "code",
   "execution_count": null,
   "id": "fa75ec84",
   "metadata": {},
   "outputs": [],
   "source": [
    "fig, ax = plt.subplots(figsize=(7,4))\n",
    "ax.plot(df[\"V33 Re\"], df[\"V33 Im\"], label=\"python\")\n",
    "ax.scatter(df[\"V33 Re\"][::10], df[\"V33 Im\"][::10], marker=\"s\", label='_nolegend_')\n",
    "ax.plot(df2[\"V33 Re\"], df2[\"V33 Im\"], label=\"LabVIEW\")\n",
    "ax.scatter(df2[\"V33 Re\"][::10], df2[\"V33 Im\"][::10], marker=\"s\", label='_nolegend_')\n",
    "ax.scatter(0, 0, c=\"r\", marker=\"o\", label='_nolegend_')\n",
    "ax.axis('equal')\n",
    "ax.set_xlabel(r\"$Z_{33}' [\\Omega/A^2]$\", fontsize=12)\n",
    "ax.set_ylabel(r\"$Z_{33}'' [\\Omega/A^2]$\", fontsize=12)\n",
    "plt.ticklabel_format(style='sci', axis='both', scilimits=(0,0))\n",
    "plt.grid()\n",
    "plt.show()"
   ]
  },
  {
   "cell_type": "code",
   "execution_count": null,
   "id": "5a07f522",
   "metadata": {},
   "outputs": [],
   "source": []
  }
 ],
 "metadata": {
  "kernelspec": {
   "display_name": "Python 3 (ipykernel)",
   "language": "python",
   "name": "python3"
  },
  "language_info": {
   "codemirror_mode": {
    "name": "ipython",
    "version": 3
   },
   "file_extension": ".py",
   "mimetype": "text/x-python",
   "name": "python",
   "nbconvert_exporter": "python",
   "pygments_lexer": "ipython3",
   "version": "3.10.4"
  }
 },
 "nbformat": 4,
 "nbformat_minor": 5
}
