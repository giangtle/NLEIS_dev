{
 "cells": [
  {
   "cell_type": "code",
   "execution_count": 1,
   "id": "75d0c7fc",
   "metadata": {},
   "outputs": [],
   "source": [
    "import numpy as np\n",
    "from numpy import zeros, flip, concatenate, transpose, nan\n",
    "import math\n",
    "from math import pi, exp, sqrt\n",
    "import cmath\n",
    "from scipy.special import dawsn, erf\n",
    "from scipy.fft import fft, fftfreq\n",
    "from scipy.optimize import curve_fit\n",
    "from statistics import stdev\n",
    "from sklearn.linear_model import LinearRegression\n",
    "from sklearn.metrics import mean_squared_error as mse\n",
    "import random\n",
    "from inspect import signature\n",
    "import itertools"
   ]
  },
  {
   "cell_type": "code",
   "execution_count": 2,
   "id": "dc4cc123",
   "metadata": {},
   "outputs": [],
   "source": [
    "def window_coefficient(b=20, max_k=5, Cyc=100, nt=4096):\n",
    "    \"\"\"\n",
    "    Calculate multiplication coefficient (Pk & Qk) of harmonic responses (Vk)\n",
    "    as a result of the Gaussian windowing function.\n",
    "    See NLEISView_FFT_Lookup_Table.nb Mathematica file for derivation.\n",
    "    \"\"\"\n",
    "    Pk = zeros((max_k, nt*2))\n",
    "    Qk = zeros((max_k, nt*2))\n",
    "    for k_1 in range(max_k):\n",
    "        k = k_1+1\n",
    "        ReVpk = zeros(int(nt/2))\n",
    "        ImVpk = zeros(int(nt/2))\n",
    "        ReVppk = zeros(int(nt/2))\n",
    "        ImVppk = zeros(int(nt/2))\n",
    "        for n in range(int(nt/2)):\n",
    "            kneg = (b*(-(Cyc*k)+n)*pi)/Cyc\n",
    "            kpos = (b*(Cyc*k+n)*pi)/Cyc\n",
    "            cterm = (Cyc-Cyc*nt)/(b*nt)\n",
    "            ReVpk[n] = b*sqrt(pi)/(4*Cyc) * ( exp(-kneg**2)+exp(-kpos**2) ) * sqrt(2)\n",
    "            ImVpk[n] = -b/(2*Cyc)*( dawsn(kneg)+dawsn(kpos) ) * sqrt(2)\n",
    "            ReVppk[n] = b/(2*Cyc)*( dawsn(kneg)-dawsn(kpos) ) * sqrt(2)\n",
    "            ImVppk[n] = b*sqrt(pi)/(4*Cyc) * ( exp(-kneg**2)-exp(-kpos**2) ) * sqrt(2)\n",
    "        Pk[k_1,:] = concatenate((flip(ReVpk), ReVpk, flip(ImVpk), ImVpk))\n",
    "        Qk[k_1,:] = concatenate((flip(ReVppk), ReVppk, flip(ImVppk), ImVppk))\n",
    "    return Pk, Qk"
   ]
  },
  {
   "cell_type": "code",
   "execution_count": 24,
   "id": "7679ac8f",
   "metadata": {},
   "outputs": [],
   "source": [
    "def baseline_correction(nt=4096):\n",
    "    \"\"\"\n",
    "    Generate baseline coefficients for the FFT linear fitting.\n",
    "    \"\"\"\n",
    "    BC = zeros((4,nt*2))\n",
    "    BC[0,nt:] = 1\n",
    "    BC[1,:nt] = 1\n",
    "    BC[2,:] = list(range(int(nt/2)))+list(range(int(nt/2)-1,-1,-1))+list(range(int(nt/2)))+list(range(int(nt/2)-1,-1,-1))\n",
    "    BC[3,:] = list(range(int(nt/2)-1,-1,-1))+list(range(int(nt/2)))+list(range(int(nt/2)-1,-1,-1))+list(range(int(nt/2)))\n",
    "    return BC"
   ]
  },
  {
   "cell_type": "code",
   "execution_count": 4,
   "id": "6e745ae1",
   "metadata": {},
   "outputs": [],
   "source": [
    "def lookup_table(Pk, Qk, BC):\n",
    "    \"\"\"\n",
    "    Combining the multiplication coefficient with the baseline into lookup table.\n",
    "    \"\"\"\n",
    "    m, n = np.shape(Qk)\n",
    "    LUT = zeros((n, 14))\n",
    "    for i in range(n):\n",
    "        LUT[i,0] = Pk[0,i]\n",
    "        LUT[i,2] = Pk[1,i]\n",
    "        LUT[i,4] = Pk[2,i]\n",
    "        LUT[i,6] = Pk[3,i]\n",
    "        LUT[i,8] = Pk[4,i]\n",
    "        LUT[i,1] = Qk[0,i]\n",
    "        LUT[i,3] = Qk[1,i]\n",
    "        LUT[i,5] = Qk[2,i]\n",
    "        LUT[i,7] = Qk[3,i]\n",
    "        LUT[i,9] = Qk[4,i]\n",
    "        LUT[i,10:] = BC[:,i]\n",
    "    return LUT"
   ]
  },
  {
   "cell_type": "code",
   "execution_count": 5,
   "id": "aa130b80",
   "metadata": {},
   "outputs": [],
   "source": [
    "def FFT(y):\n",
    "    \"\"\"\n",
    "    Perform the Fourier transform of the data and realign the FFT results.\n",
    "    \"\"\"\n",
    "    FFT = fft(y, norm = \"forward\")\n",
    "    FFT = FFT[:int(len(FFT)/2)]*sqrt(2)\n",
    "    ReFFT = FFT.real\n",
    "    ImFFT = FFT.imag\n",
    "    return concatenate((flip(ReFFT), ReFFT, flip(ImFFT), ImFFT))"
   ]
  },
  {
   "cell_type": "code",
   "execution_count": null,
   "id": "b168586c",
   "metadata": {},
   "outputs": [],
   "source": []
  },
  {
   "cell_type": "code",
   "execution_count": 6,
   "id": "77bfa460",
   "metadata": {},
   "outputs": [],
   "source": [
    "def rms(y1, y2, loc, length):\n",
    "    \"\"\"\n",
    "    Calculate root mean squared error between two arrays.\n",
    "    \"\"\"\n",
    "    return mse(y1[loc:loc+length], y2[loc:loc+length], squared=False)\n",
    "\n",
    "def alpha_noise(FFT, FFT_fit, sigma_x = 3):\n",
    "    \"\"\"\n",
    "    Calculate level of noise in FFT signal.\n",
    "    \"\"\"\n",
    "    loc = 10\n",
    "    length = 500\n",
    "    sigma_dif = stdev(FFT[loc:loc+length]-FFT_fit[loc:loc+length])\n",
    "    return sigma_dif*sigma_x"
   ]
  },
  {
   "cell_type": "code",
   "execution_count": 7,
   "id": "894fe575",
   "metadata": {},
   "outputs": [],
   "source": [
    "def one_amp(file_name, LUT, galvano=True, b=20, sigma_x=3, distance_ratio = 3):\n",
    "    \"\"\"\n",
    "    For each raw voltage-current file:\n",
    "        _ Perform FFT on voltage & current data\n",
    "        _ Use linear regression between lookup values and FFT response to\n",
    "            extract the harmonic responses (Vk) in voltage/current for\n",
    "            galvanostatic/potentiostatic experiment\n",
    "        _ Eliminate harmonic responses (Vk) if they don't pass signal quality checks.\n",
    "        _ Return harmonic responses (Vk) and the linear reression fit errors (fit_error).\n",
    "    \"\"\"\n",
    "    # Extract oscillation frequency\n",
    "    with open(file_name, \"r\") as file:\n",
    "        f=float(file.readline().split(\"\\t\")[1])\n",
    "    # Extract voltage current time series:\n",
    "    data = transpose(np.genfromtxt(file_name, skip_header=1))\n",
    "    # If exp is galvanostatic: current index is 1, voltage index is 2\n",
    "    if galvano == False:\n",
    "        dummy = data\n",
    "        data[1,:] = dummy[2,:]\n",
    "        data[2,:] = dummy[1,:]\n",
    "    # Set t0 = 0:\n",
    "    data[0,:] = data[0,:]-data[0,0]\n",
    "    # Subtract DC current/voltage:\n",
    "    data[1,:] = data[1,:]-np.mean(data[1,:])\n",
    "    data[2,:] = data[2,:]-np.mean(data[2,:])\n",
    "    # Apply Gaussian windowing to signal:\n",
    "    data[1,:] = data[1,:]*np.exp(-np.square(data[0,:]*f/b))\n",
    "    data[2,:] = data[2,:]*np.exp(-np.square(data[0,:]*f/b))\n",
    "    # Perform Fourier Transform\n",
    "    I_FFT = FFT(data[1,:])\n",
    "    V_FFT = FFT(data[2,:])\n",
    "    \n",
    "    # Process the FFT current:\n",
    "    I_reg = LinearRegression().fit(LUT, I_FFT)\n",
    "    I_FFT_fit = I_reg.predict(LUT)\n",
    "    I_coef = I_reg.coef_\n",
    "    I_baseline = np.sum(I_coef[10:]*LUT[:,10:], axis=1)\n",
    "    # Process the FFT voltage:\n",
    "    V_reg = LinearRegression().fit(LUT, V_FFT)\n",
    "    V_FFT_fit = V_reg.predict(LUT)\n",
    "    V_coef = V_reg.coef_\n",
    "    V_baseline = np.sum(V_coef[10:]*LUT[:,10:], axis=1)\n",
    "    # V1fit = V1' P1 + V1\" Q1\n",
    "    V1p = V_coef[0]\n",
    "    V1pp = V_coef[1]\n",
    "    P1 = LUT[:,0]\n",
    "    Q1 = LUT[:,1]\n",
    "    V1fit = V1p*P1+V1pp*Q1\n",
    "    V1fit_plus_baseline = V1fit + V_baseline\n",
    "    # Voltage signal quality checks:\n",
    "    # Check whether distance of Vk to baseline is greater than noise level:\n",
    "    V_alpha_noise = alpha_noise(V_FFT, V_FFT_fit, sigma_x=sigma_x)\n",
    "    loc_list = [1938, 1838, 1738, 1638, 1538]\n",
    "    fit_error = zeros(5)\n",
    "    for i, loc in zip(range(5), loc_list):\n",
    "        fit_error[i] = rms(V_FFT, V_FFT_fit, loc, 20)\n",
    "        if i == 0:\n",
    "            Vk_to_baseline = rms(V_FFT, V_baseline, loc, 20)\n",
    "        else:\n",
    "            Vk_to_baseline = rms(V_FFT, V1fit_plus_baseline, loc, 20)\n",
    "        if Vk_to_baseline/V_alpha_noise < 1.0:\n",
    "            V_coef[2*i] = nan\n",
    "            V_coef[2*i+1] = nan\n",
    "        # Then, check whether (Vk distance to baseline)/(V_FFT fit error) > distance_ratio threshold:\n",
    "        else:\n",
    "            if Vk_to_baseline/fit_error[i] < distance_ratio:\n",
    "                V_coef[2*i] = nan\n",
    "                V_coef[2*i+1] = nan\n",
    "    # Correct voltage phase to current's phase:\n",
    "    I1_Re = I_coef[0]\n",
    "    I1_Im = I_coef[1]\n",
    "    alpha, I1_phase = cmath.polar(I1_Re+1j*I1_Im)\n",
    "    Vk = zeros(10)\n",
    "    for i in range(5):\n",
    "        if math.isnan(V_coef[2*i]):\n",
    "            Vk[2*i] = nan\n",
    "            Vk[2*i+1] = nan\n",
    "        else:\n",
    "            Vi_Re = V_coef[2*i]\n",
    "            Vi_Im = V_coef[2*i+1]\n",
    "            Vi_mag, Vi_phase = cmath.polar(Vi_Re+1j*Vi_Im)\n",
    "            Vi_phase = Vi_phase - I1_phase*(i+1)\n",
    "            Vi = cmath.rect(Vi_mag, Vi_phase)\n",
    "            Vk[2*i] = Vi.real\n",
    "            Vk[2*i+1] = Vi.imag\n",
    "    return alpha, Vk, fit_error, f"
   ]
  },
  {
   "cell_type": "code",
   "execution_count": null,
   "id": "b3a54402",
   "metadata": {},
   "outputs": [],
   "source": []
  },
  {
   "cell_type": "code",
   "execution_count": 8,
   "id": "13993ece",
   "metadata": {
    "scrolled": true
   },
   "outputs": [],
   "source": [
    "def remove_nan(alpha, Vk_Re, Vk_Im, error):\n",
    "    \"\"\"\n",
    "    Remove nan values before fitting Vk to a power series.\n",
    "    nan values are from not passing signal quality checks.\n",
    "    \"\"\"\n",
    "    return alpha[~np.isnan(Vk_Re)], Vk_Re[~np.isnan(Vk_Re)], Vk_Im[~np.isnan(Vk_Re)], error[~np.isnan(Vk_Re)]"
   ]
  },
  {
   "cell_type": "code",
   "execution_count": 9,
   "id": "233018ce",
   "metadata": {},
   "outputs": [],
   "source": [
    "def select_fit_function(k):\n",
    "    \"\"\"\n",
    "    Each harmonics fit to a different current AC amplitude power series.\n",
    "        _ alpha: current AC amplitude.\n",
    "    \"\"\"\n",
    "    if k==1:\n",
    "        foo = foo_V1\n",
    "    elif k==2:\n",
    "        foo = foo_V2\n",
    "    elif k==3:\n",
    "        foo = foo_V3\n",
    "    elif k==4:\n",
    "        foo = foo_V4\n",
    "    elif k==5:\n",
    "        foo = foo_V5\n",
    "    return foo\n",
    "\n",
    "def foo_V1(alpha, V11, V13, V15):\n",
    "    return V11*alpha + V13*pow(alpha,3) + V15*pow(alpha,5)\n",
    "\n",
    "def foo_V2(alpha, V22, V24):\n",
    "    return V22*pow(alpha,2) + V24*pow(alpha,4)\n",
    "\n",
    "def foo_V3(alpha, V33, V35):\n",
    "    return V33*pow(alpha,3) + V35*pow(alpha,5)\n",
    "\n",
    "def foo_V4(alpha, V44):\n",
    "    return V44*pow(alpha,4)\n",
    "\n",
    "def foo_V5(alpha, V55):\n",
    "    return V55*pow(alpha,5)"
   ]
  },
  {
   "cell_type": "code",
   "execution_count": 10,
   "id": "0d109a9c",
   "metadata": {},
   "outputs": [],
   "source": [
    "def cal_Vkm_fit(alpha, Vk, fit_error):\n",
    "    \"\"\"\n",
    "    Fit Vk to the power series of Vkm.\n",
    "    \"\"\"\n",
    "    Vkm_fit = []\n",
    "    for i in range(5):\n",
    "        k=i+1\n",
    "        Vk_Re = Vk[:,2*i]\n",
    "        Vk_Im = Vk[:,2*i+1]\n",
    "        error = fit_error[:,i]\n",
    "        alpha_cut, Vk_Re, Vk_Im, error = remove_nan(alpha, Vk_Re, Vk_Im, error)\n",
    "        # if there are enough data points, use the fit function:\n",
    "        foo = select_fit_function(k)\n",
    "        no_params = len(signature(foo).parameters)-1\n",
    "        if len(alpha_cut)>no_params+3:\n",
    "            Vkm_Re = bootstrap_fit(alpha_cut, Vk_Re, foo, error)\n",
    "            Vkm_Im = bootstrap_fit(alpha_cut, Vk_Im, foo, error)\n",
    "            Vkm_fit = Vkm_fit + [list(Vkm_Re), list(Vkm_Im)]\n",
    "        else:\n",
    "            Vkm_fit = Vkm_fit + [[nan for i in range(no_params)], [nan for i in range(no_params)]]\n",
    "    Vkm_fit = list((itertools.chain(*Vkm_fit)))\n",
    "    return Vkm_fit"
   ]
  },
  {
   "cell_type": "code",
   "execution_count": 11,
   "id": "52ca5baf",
   "metadata": {},
   "outputs": [],
   "source": [
    "def bootstrap_fit(alpha, Vk, foo, error, N=20):\n",
    "    \"\"\"\n",
    "    bootstrapping the power series fit of Vk.\n",
    "    \"\"\"\n",
    "    popt, pcov = curve_fit(foo, alpha, Vk)\n",
    "    popt_N = zeros((len(popt), N))\n",
    "    for i in range(N):\n",
    "        rnd_error = np.array([random.uniform(-2,2)*e for e in error])\n",
    "        Vk_noise = Vk+rnd_error\n",
    "        popt, pcov = curve_fit(foo, alpha, Vk_noise)\n",
    "        popt_N[:,i] = popt\n",
    "    return popt_N.mean(axis=1)"
   ]
  },
  {
   "cell_type": "code",
   "execution_count": 12,
   "id": "fe62fa75",
   "metadata": {},
   "outputs": [],
   "source": [
    "def one_freq(file_ext, amp_no, LUT):\n",
    "    \"\"\"\n",
    "    For one frequency\n",
    "        _ extract the harmonic responses (Vk) from each oscillation amplitude (alpha).\n",
    "        _ fit Vk to power series of alpha to get Vkm.\n",
    "        _ return a list of the frequency and Vkm values.\n",
    "    \"\"\"\n",
    "    alpha = zeros(amp_no)\n",
    "    Vk = zeros((amp_no, 10))\n",
    "    fit_error = zeros((amp_no, 5))\n",
    "    for i in range(amp_no):\n",
    "        file_name = file_ext + \" \" + str(i+1)\n",
    "        alpha[i], Vk[i,:], fit_error[i,:], f = one_amp(file_name, LUT, sigma_x=3, distance_ratio = 3)\n",
    "    Vkm = cal_Vkm_fit(alpha, Vk, fit_error)\n",
    "    return [f]+Vkm"
   ]
  },
  {
   "cell_type": "code",
   "execution_count": 13,
   "id": "0bac3405",
   "metadata": {},
   "outputs": [],
   "source": [
    "def NLEIS(save_name, file_loc, freq_no, amp_no):\n",
    "    \"\"\"\n",
    "    Perform data analysis from the NLEIS raw voltage-current data and save results into a text file.\n",
    "        save_name: save location for the NLEIS data analysis results.\n",
    "        file_loc: where the raw data located, with any prefixes.\n",
    "        freq_no: number of studied frequency.\n",
    "        amp_no: number of studied oscillation amplitude (alpha.\n",
    "    \"\"\"\n",
    "    Pk, Qk = window_coefficient(b=20, max_k=5, Cyc=100, nt=4096)\n",
    "    BC = baseline_correction(nt=4096)\n",
    "    LUT = lookup_table(Pk, Qk, BC)\n",
    "    write_data = []+[column_labels()]\n",
    "    for i in range(freq_no):\n",
    "        file_ext = file_loc + \" \" + str(i+1)\n",
    "        write_data = write_data + [one_freq(file_ext, amp_no, LUT)]\n",
    "    with open(save_name, \"w\") as save_file:\n",
    "        save_file.writelines('\\t'.join(str(j) for j in i) + '\\n' for i in write_data)\n",
    "    return"
   ]
  },
  {
   "cell_type": "code",
   "execution_count": 14,
   "id": "2fc40e95",
   "metadata": {},
   "outputs": [],
   "source": [
    "def column_labels():\n",
    "    \"\"\"\n",
    "    NLEIS save file column labels\n",
    "    \"\"\"\n",
    "    V1_coef = [\"V11\", \"V13\", \"V15\"]\n",
    "    V2_coef = [\"V22\", \"V24\"]\n",
    "    V3_coef = [\"V33\", \"V35\"]\n",
    "    V4_coef = [\"V44\"]\n",
    "    V5_coef = [\"V55\"]\n",
    "    labels = [\"f[Hz]\"]\n",
    "    for coef in [V1_coef, V2_coef, V3_coef, V4_coef, V5_coef]:\n",
    "        labels = labels + [i+\"_Re\" for i in coef] + [i+\"_Im\" for i in coef] \n",
    "    return labels\n"
   ]
  },
  {
   "cell_type": "code",
   "execution_count": null,
   "id": "734418a3",
   "metadata": {},
   "outputs": [],
   "source": []
  },
  {
   "cell_type": "code",
   "execution_count": 5,
   "id": "088058be",
   "metadata": {},
   "outputs": [],
   "source": [
    "from NLEIS import NLEIS"
   ]
  },
  {
   "cell_type": "code",
   "execution_count": 6,
   "id": "4698649a",
   "metadata": {},
   "outputs": [],
   "source": [
    "save_name = \"../example/NLEIS_quick.txt\"\n",
    "file_loc =\"../example/_NLEISdata/r\"\n",
    "amp_no = 20\n",
    "freq_no = 41\n",
    "\n",
    "NLEIS(save_name, file_loc, freq_no, amp_no)"
   ]
  },
  {
   "cell_type": "code",
   "execution_count": null,
   "id": "58c16981",
   "metadata": {},
   "outputs": [],
   "source": []
  },
  {
   "cell_type": "code",
   "execution_count": 5,
   "id": "257ce819",
   "metadata": {},
   "outputs": [],
   "source": [
    "import pandas as pd\n",
    "%matplotlib inline\n",
    "import matplotlib.pyplot as plt"
   ]
  },
  {
   "cell_type": "code",
   "execution_count": 6,
   "id": "a34bc662",
   "metadata": {},
   "outputs": [],
   "source": [
    "df = pd.read_csv(save_name,delimiter=\"\\t\")"
   ]
  },
  {
   "cell_type": "code",
   "execution_count": 7,
   "id": "4a9a86f5",
   "metadata": {},
   "outputs": [
    {
     "data": {
      "text/plain": [
       "[<matplotlib.lines.Line2D at 0x7f052ba651b0>]"
      ]
     },
     "execution_count": 7,
     "metadata": {},
     "output_type": "execute_result"
    },
    {
     "data": {
      "image/png": "[encoded data removed]",
      "text/plain": [
       "<Figure size 432x288 with 1 Axes>"
      ]
     },
     "metadata": {
      "needs_background": "light"
     },
     "output_type": "display_data"
    }
   ],
   "source": [
    "plt.plot(df[\"V11_Re\"], -df[\"V11_Im\"])"
   ]
  },
  {
   "cell_type": "code",
   "execution_count": 8,
   "id": "714f005e",
   "metadata": {},
   "outputs": [
    {
     "data": {
      "text/plain": [
       "[<matplotlib.lines.Line2D at 0x7f052b6620e0>]"
      ]
     },
     "execution_count": 8,
     "metadata": {},
     "output_type": "execute_result"
    },
    {
     "data": {
      "image/png": "[encoded data removed]",
      "text/plain": [
       "<Figure size 432x288 with 1 Axes>"
      ]
     },
     "metadata": {
      "needs_background": "light"
     },
     "output_type": "display_data"
    }
   ],
   "source": [
    "plt.plot(df[\"V33_Re\"], -df[\"V33_Im\"])"
   ]
  },
  {
   "cell_type": "code",
   "execution_count": 8,
   "id": "4fb5c52b",
   "metadata": {},
   "outputs": [
    {
     "data": {
      "text/plain": [
       "[<matplotlib.lines.Line2D at 0x7f052b6620e0>]"
      ]
     },
     "execution_count": 8,
     "metadata": {},
     "output_type": "execute_result"
    },
    {
     "data": {
      "image/png": "[encoded data removed]",
      "text/plain": [
       "<Figure size 432x288 with 1 Axes>"
      ]
     },
     "metadata": {
      "needs_background": "light"
     },
     "output_type": "display_data"
    }
   ],
   "source": [
    "plt.plot(df[\"V33_Re\"], -df[\"V33_Im\"])"
   ]
  },
  {
   "cell_type": "code",
   "execution_count": null,
   "id": "6e076655",
   "metadata": {},
   "outputs": [],
   "source": []
  },
  {
   "cell_type": "code",
   "execution_count": 28,
   "id": "8b867043",
   "metadata": {},
   "outputs": [],
   "source": [
    "\n",
    "\n",
    "# Calculate ratio of alpha noise over alpha fitting error:\n",
    "I_alpha_fit_error = rms(I_FFT, I_FFT_fit, 1942, 11)\n",
    "I_alpha_noise = alpha_noise(I_FFT, I_FFT_fit)\n",
    "I_alpha_noise_to_error = I_alpha_noise/I_alpha_fit_error\n",
    "\n",
    "# Calculate ratio of alpha peak over alpha noise :\n",
    "I_alpha_left = rms(I_FFT, I_baseline, 1942, 11)\n",
    "I_alpha_right = rms(I_FFT, I_baseline, 6037, 11)\n",
    "I_alpha_peak_to_noise = (I_alpha_left+I_alpha_right)/2/(I_alpha_noise)"
   ]
  },
  {
   "cell_type": "code",
   "execution_count": 63,
   "id": "d886e6ab",
   "metadata": {},
   "outputs": [],
   "source": [
    "# calculate peak to noise ratio:\n",
    "V_peak_to_noise = zeros(5)\n",
    "V_noise_to_error = zeros(5)\n",
    "\n",
    "left_loc = np.array([1942, 1842, 1742, 1642, 1542])\n",
    "right_loc = left_loc_list + 4095\n",
    "\n",
    "for i, left, right in zip(range(5), left_loc, right_loc):\n",
    "    if i == 0:\n",
    "        V_peak = ( rms(V_FFT, V_baseline, left, 11)+rms(V_FFT, V_baseline, right, 11) )/2\n",
    "    else:\n",
    "        V_peak = ( rms(V_FFT, V1fit_plus_baseline, left, 11)+rms(V_FFT, V1fit_plus_baseline, right, 11) )/2\n",
    "    fit_error = ( rms(V_FFT, V_FFT_fit, left, 11)+rms(V_FFT, V_FFT_fit, right, 11) )/2\n",
    "    peak_to_noise = V_peak/V_alpha_noise\n",
    "    noise_to_error = V_alpha_noise/fit_error\n",
    "    V_peak_to_noise[i] = peak_to_noise\n",
    "    V_noise_to_error[i] = noise_to_error\n"
   ]
  },
  {
   "cell_type": "code",
   "execution_count": 63,
   "id": "d2b09167",
   "metadata": {},
   "outputs": [
    {
     "data": {
      "text/plain": [
       "[['f[Hz]',\n",
       "  'V11_Re',\n",
       "  'V13_Re',\n",
       "  'V15_Re',\n",
       "  'V11_Im',\n",
       "  'V13_Im',\n",
       "  'V15_Im',\n",
       "  'V22_Re',\n",
       "  'V24_Re',\n",
       "  'V22_Im',\n",
       "  'V24_Im',\n",
       "  'V33_Re',\n",
       "  'V35_Re',\n",
       "  'V33_Im',\n",
       "  'V35_Im',\n",
       "  'V44_Re',\n",
       "  'V44_Im',\n",
       "  'V55_Re',\n",
       "  'V55_Im'],\n",
       " ['f[Hz]',\n",
       "  'V11_Re',\n",
       "  'V13_Re',\n",
       "  'V15_Re',\n",
       "  'V11_Im',\n",
       "  'V13_Im',\n",
       "  'V15_Im',\n",
       "  'V22_Re',\n",
       "  'V24_Re',\n",
       "  'V22_Im',\n",
       "  'V24_Im',\n",
       "  'V33_Re',\n",
       "  'V35_Re',\n",
       "  'V33_Im',\n",
       "  'V35_Im',\n",
       "  'V44_Re',\n",
       "  'V44_Im',\n",
       "  'V55_Re',\n",
       "  'V55_Im']]"
      ]
     },
     "execution_count": 63,
     "metadata": {},
     "output_type": "execute_result"
    }
   ],
   "source": [
    "[]+[column_labels()]+[column_labels()]"
   ]
  },
  {
   "cell_type": "code",
   "execution_count": null,
   "id": "23af8dc8",
   "metadata": {},
   "outputs": [],
   "source": []
  },
  {
   "cell_type": "code",
   "execution_count": 1,
   "id": "49ce7d1a",
   "metadata": {},
   "outputs": [],
   "source": [
    "from NLEIS import column_labels"
   ]
  },
  {
   "cell_type": "code",
   "execution_count": 3,
   "id": "86f7c895",
   "metadata": {},
   "outputs": [
    {
     "data": {
      "text/plain": [
       "['V11 Re',\n",
       " 'V13 Re',\n",
       " 'V15 Re',\n",
       " 'V11 Im',\n",
       " 'V13 Im',\n",
       " 'V15 Im',\n",
       " 'V22 Re',\n",
       " 'V24 Re',\n",
       " 'V22 Im',\n",
       " 'V24 Im',\n",
       " 'V33 Re',\n",
       " 'V35 Re',\n",
       " 'V33 Im',\n",
       " 'V35 Im',\n",
       " 'V44 Re',\n",
       " 'V44 Im',\n",
       " 'V55 Re',\n",
       " 'V55 Im']"
      ]
     },
     "execution_count": 3,
     "metadata": {},
     "output_type": "execute_result"
    }
   ],
   "source": [
    "column_labels()[1:]"
   ]
  },
  {
   "cell_type": "code",
   "execution_count": null,
   "id": "c0882ca4",
   "metadata": {},
   "outputs": [],
   "source": []
  }
 ],
 "metadata": {
  "kernelspec": {
   "display_name": "Python 3 (ipykernel)",
   "language": "python",
   "name": "python3"
  },
  "language_info": {
   "codemirror_mode": {
    "name": "ipython",
    "version": 3
   },
   "file_extension": ".py",
   "mimetype": "text/x-python",
   "name": "python",
   "nbconvert_exporter": "python",
   "pygments_lexer": "ipython3",
   "version": "3.10.4"
  }
 },
 "nbformat": 4,
 "nbformat_minor": 5
}
